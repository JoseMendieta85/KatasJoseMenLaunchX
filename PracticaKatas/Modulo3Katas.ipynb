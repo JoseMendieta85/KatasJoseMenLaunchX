{
 "cells": [
  {
   "cell_type": "code",
   "execution_count": 4,
   "metadata": {},
   "outputs": [
    {
     "name": "stdout",
     "output_type": "stream",
     "text": [
      "Sin Peligro. Asteroide con velocidad de 12km/s\n"
     ]
    }
   ],
   "source": [
    "# Para este ejercicio, escribirás una lógica condicional que imprima una advertencia si un asteroide \n",
    "# se acerca a la Tierra demasiado rápido. La velocidad del asteroide varía dependiendo de lo cerca \n",
    "# que esté del sol, y cualquier velocidad superior a 25 kilómetros por segundo (km/s) merece una \n",
    "# advertencia.\n",
    "# \n",
    "# Un asteroide se acerca, y viaja a una velocidad de 49 km/s.\n",
    "# Añadir el código necesario para crear una variable que guarde la velocidad del asteroide.\n",
    "# Escribe una expresión de prueba para calcular si necesita una advertencia.\n",
    "# Agregue las instrucciones que se ejecutarán si la expresión de prueba es true o false.\n",
    "\n",
    "vel = 49\n",
    "\n",
    "if vel > 25:\n",
    "    print(\"!!Advertencia. Asteroide con velocidad de \" + str(vel) + \"km/s¡¡\")\n",
    "else:\n",
    "    print(\"Sin Peligro. Asteroide con velocidad de \" + str(vel) + \"km/s\")"
   ]
  },
  {
   "cell_type": "code",
   "execution_count": 11,
   "metadata": {},
   "outputs": [
    {
     "name": "stdout",
     "output_type": "stream",
     "text": [
      " Asteroide invisible con velocidad de 19km/s\n"
     ]
    }
   ],
   "source": [
    "# Si un asteroide entra en la atmósfera de la Tierra a una velocidad mayor o igual a 20 km/s, \n",
    "# a veces produce un rayo de luz que se puede ver desde la Tierra. Escribe la lógica condicional \n",
    "# que usa declaraciones if, else, y elif para alertar a las personas de todo el mundo que deben \n",
    "# buscar un asteroide en el cielo. ¡Hay uno que se dirige a la tierra ahora a una velocidad de 19 km/s!\n",
    "\n",
    "# Agrega el código para crear una variable para un asteroide que viaja a 19 km/s\n",
    "# Escribe varias expresiones de prueba para determinar si puedes ver el rayo de luz desde la tierra\n",
    "# Agrega las instrucciones que se ejecutarán si las expresiones de prueba son True o False\n",
    "\n",
    "vel = 19\n",
    "\n",
    "if vel >= 20:\n",
    "    print(\"¡Voltea al cielo. Hay un asteroide con una velocidad de \" + str(vel) + \"km/s¡¡\")\n",
    "else:\n",
    "    print(\" Asteroide invisible con velocidad de \" + str(vel) + \"km/s\")"
   ]
  },
  {
   "cell_type": "code",
   "execution_count": 13,
   "metadata": {},
   "outputs": [
    {
     "name": "stdout",
     "output_type": "stream",
     "text": [
      "¡Voltea al cielo. Hay un asteroide con una velocidad de 25km/s¡¡\n"
     ]
    }
   ],
   "source": [
    "# Los asteroides de menos de 25 metros en su dimensión más grande probablemente se quemarán a medida que \n",
    "# entren en la atmósfera de la Tierra.\n",
    "# Si una pieza de un asteroide que es más grande que 25 metros pero más pequeña que 1000 metros golpeara \n",
    "# la Tierra, causaría mucho daño.\n",
    "# \n",
    "# La velocidad del asteroide varía en función de lo cerca que esté del sol, y cualquier velocidad superior \n",
    "# a 25 kilómetros por segundo (km/s) merece una advertencia. Si un asteroide entra en la atmósfera de la \n",
    "# Tierra a una velocidad mayor o igual a 20 km/s, a veces produce un rayo de luz que se puede ver desde la \n",
    "# Tierra.\n",
    "\n",
    "# Escribe un programa que emita la advertencia o información correcta a la gente de la Tierra, \n",
    "# según la velocidad y el tamaño de un asteroide.\n",
    "\n",
    "vel = 25\n",
    "tam = 40\n",
    "if vel > 25 and tam > 25 and tam < 100:\n",
    "    print(\"¡Peligro. Hay un asteroide con una velocidad de \" + str(vel) + \"km/s¡¡\")\n",
    "elif vel >= 20:\n",
    "    print(\"¡Voltea al cielo. Hay un asteroide con una velocidad de \" + str(vel) + \"km/s¡¡\")\n",
    "elif tam < 25:\n",
    "    print(\" Asteroide invisible con velocidad de \" + str(vel) + \"km/s\")\n",
    "else:\n",
    "    print(\" Asteroide invisible con velocidad de \" + str(vel) + \"km/s\")"
   ]
  }
 ],
 "metadata": {
  "interpreter": {
   "hash": "84ce06952b52acb5b719482c726aa8f1f0de530cee63389d2fd8051be28b06d5"
  },
  "kernelspec": {
   "display_name": "Python 3.10.2 64-bit",
   "language": "python",
   "name": "python3"
  },
  "language_info": {
   "codemirror_mode": {
    "name": "ipython",
    "version": 3
   },
   "file_extension": ".py",
   "mimetype": "text/x-python",
   "name": "python",
   "nbconvert_exporter": "python",
   "pygments_lexer": "ipython3",
   "version": "3.10.2"
  },
  "orig_nbformat": 4
 },
 "nbformat": 4,
 "nbformat_minor": 2
}
