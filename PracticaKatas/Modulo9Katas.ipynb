{
 "cells": [
  {
   "cell_type": "markdown",
   "metadata": {},
   "source": [
    "# Ejercicio: Uso de funciones en Python\n",
    "Ejercicio 1: Trabajar con argumentos en funciones"
   ]
  },
  {
   "cell_type": "code",
   "execution_count": 16,
   "metadata": {},
   "outputs": [
    {
     "name": "stdout",
     "output_type": "stream",
     "text": [
      "0 0 0\n"
     ]
    }
   ],
   "source": [
    "# Comienza por crear una función que necesite tres lecturas de combustible y devuelva un informe:\n",
    "# Función para leer 3 tanques de combustible y muestre el promedio\n",
    "def informe (tanque1, tanque2, tanque3):\n",
    "    return print(tanque1, tanque2, tanque3)\n",
    "\n",
    "   \n",
    "# Ahora que hemos definido la función de informes, vamos a comprobarlo. \n",
    "# Para esta misión, los tanques no están llenos:\n",
    "# Llamamos a la función que genera el reporte print(funcion(tanque1, tanque2, tanque3))\n",
    "informe(0, 0, 0)"
   ]
  },
  {
   "cell_type": "code",
   "execution_count": 23,
   "metadata": {},
   "outputs": [
    {
     "data": {
      "text/plain": [
       "20.0"
      ]
     },
     "execution_count": 23,
     "metadata": {},
     "output_type": "execute_result"
    }
   ],
   "source": [
    "# En lugar de simplemente crear el informe, la función también está calculando el promedio. \n",
    "# Mejora la legibilidad extrayendo el cálculo promedio de la función en una nueva función \n",
    "# para que el promedio se pueda hacer de forma independiente:\n",
    "\n",
    "# Función promedio \n",
    "def promedio(*args):\n",
    "    ave = sum(args)/len(args)\n",
    "    return ave\n",
    "\n",
    "# Actualiza la función\n",
    "def informe (tanque1, tanque2, tanque3):\n",
    "    prom = promedio(tanque1, tanque2, tanque3)\n",
    "    #return print(tanque1, tanque2, tanque3)\n",
    "    return prom\n",
    "\n",
    "informe (10, 20, 30)"
   ]
  },
  {
   "cell_type": "markdown",
   "metadata": {},
   "source": [
    "# Ejercicio 2: Trabajo con argumentos de palabra clave\n",
    "Ejercicio : Trabajar con argumentos de palabras clave en funciones"
   ]
  },
  {
   "cell_type": "code",
   "execution_count": 29,
   "metadata": {},
   "outputs": [
    {
     "name": "stdout",
     "output_type": "stream",
     "text": [
      "Informe Preciso:\n",
      "    Hora de Lanzamiento: 21 horas\n",
      "    Tiempo de Vuelo: 100 horas\n",
      "    Destino: Luna\n",
      "    Tanque Externo: 12345\n",
      "    Tanque Interno: 6789\n",
      "    \n"
     ]
    }
   ],
   "source": [
    "# En este ejercicio, construirás un informe de cohete que requiere varias piezas de información, \n",
    "# como el tiempo hasta el destino, el combustible a la izquierda y el nombre del destino. \n",
    "# Comienza por crear una función que creará un informe preciso de la misión:\n",
    "\n",
    "# Función con un informe preciso de la misión. \n",
    "# Considera hora de prelanzamiento, tiempo de vuelo, destino, tanque externo y tanque interno\n",
    "\n",
    "def reporte (hora, tiempo, destino, tanque1, tanque2):\n",
    "    return f'''Informe Preciso:\n",
    "    Hora de Lanzamiento: {hora} horas\n",
    "    Tiempo de Vuelo: {tiempo} horas\n",
    "    Destino: {destino}\n",
    "    Tanque Externo: {tanque1}\n",
    "    Tanque Interno: {tanque2}\n",
    "    '''\n",
    "print(reporte(21, 100, \"Luna\", 12345, 6789))\n"
   ]
  },
  {
   "cell_type": "code",
   "execution_count": 34,
   "metadata": {},
   "outputs": [
    {
     "name": "stdout",
     "output_type": "stream",
     "text": [
      "Informe Preciso:\n",
      "    Destino: Luna\n",
      "    Tiempo total: 60 horas\n",
      "    Total Combustible: 18023 litros\n",
      "    \n"
     ]
    }
   ],
   "source": [
    "# Hazlo más flexible permitiendo cualquier número de pasos basados en el tiempo y cualquier número de tanques. \n",
    "# En lugar de usar *args y **kwargs, aprovecha el hecho de que puedes usar cualquier nombre que desees. \n",
    "# Asegurate que la función sea más legible mediante el uso de nombres de variables que están asociados \n",
    "# con las entradas, como *minutes y **fuel_reservoirs:\n",
    "\n",
    "# Escribe tu nueva función de reporte considerando lo anterior\n",
    "\n",
    "def reporte (destino, *tiempo, **tanque):\n",
    "    return f'''Informe Preciso:\n",
    "    Destino: {destino}\n",
    "    Tiempo total: {sum(tiempo)} horas\n",
    "    Total Combustible: {sum(tanque.values())} litros\n",
    "    '''\n",
    "\n",
    "print(reporte('Luna', 10, 20, 30, tanque1=12345, tanque2=5678))"
   ]
  }
 ],
 "metadata": {
  "interpreter": {
   "hash": "84ce06952b52acb5b719482c726aa8f1f0de530cee63389d2fd8051be28b06d5"
  },
  "kernelspec": {
   "display_name": "Python 3.10.2 64-bit",
   "language": "python",
   "name": "python3"
  },
  "language_info": {
   "codemirror_mode": {
    "name": "ipython",
    "version": 3
   },
   "file_extension": ".py",
   "mimetype": "text/x-python",
   "name": "python",
   "nbconvert_exporter": "python",
   "pygments_lexer": "ipython3",
   "version": "3.10.2"
  },
  "orig_nbformat": 4
 },
 "nbformat": 4,
 "nbformat_minor": 2
}
