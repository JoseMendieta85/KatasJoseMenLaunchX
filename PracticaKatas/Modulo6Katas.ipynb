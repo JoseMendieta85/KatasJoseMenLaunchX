{
 "cells": [
  {
   "cell_type": "markdown",
   "metadata": {},
   "source": [
    "# Ejercicio1: Crear y usar listas de Python\n",
    "Ejercicio: Usar listas para almacenar nombres de planetas\n",
    "Las listas permiten almacenar varios valores en una sola variable. Comenzarás un proyecto sobre información planetaria creando una lista de planetas.\n",
    "\n",
    "En primer lugar, crea una variable denominada planets. Agrega los ocho planetas (sin Plutón) a la lista. A continuación, muestra el número de planetas."
   ]
  },
  {
   "cell_type": "code",
   "execution_count": 17,
   "metadata": {},
   "outputs": [
    {
     "name": "stdout",
     "output_type": "stream",
     "text": [
      "['Mercury', 'Venus', 'Earth', 'Mars', 'Jupiter', 'Saturn', 'Uranus', 'Neptune']\n",
      "There are 9 planets\n",
      "The last planet is Pluton\n"
     ]
    }
   ],
   "source": [
    "# Creamos la lista planets y la mostramos\n",
    "planets = ['Mercury', 'Venus', 'Earth', 'Mars', 'Jupiter', 'Saturn', 'Uranus', 'Neptune']\n",
    "print (planets)\n",
    "\n",
    "# Agrega a Plutón a la lista que creaste. \n",
    "# Luego muestra tanto el número de planetas como el último planeta de la lista.\n",
    "planets.append('Pluton')\n",
    "num = len(planets)\n",
    "last = planets[-1]\n",
    "print(f'There are {num} planets')\n",
    "print(f'The last planet is {last}')\n",
    "\n",
    "# Agregamos a plutón y mostramos el último elemento"
   ]
  },
  {
   "cell_type": "markdown",
   "metadata": {},
   "source": [
    "# Ejercicio 2: Trabajando con datos de una lista\n",
    "Usar slices para recuperar partes de una lista\n",
    "Queremos mostrar planetas más cerca y más lejos del sol de un planeta que el usuario ingresa por teclado.\n",
    "Comienza agregando el código para crear una lista con los planetas."
   ]
  },
  {
   "cell_type": "code",
   "execution_count": 18,
   "metadata": {},
   "outputs": [],
   "source": [
    "# Lista de planetas\n",
    "planets = ['Mercury', 'Venus', 'Earth', 'Mars', 'Jupiter', 'Saturn', 'Uranus', 'Neptune']\n"
   ]
  },
  {
   "cell_type": "code",
   "execution_count": 19,
   "metadata": {},
   "outputs": [],
   "source": [
    "# Solicita al usuario el nombre de un planeta\n",
    "# Pídale al usuario que use una letra mayúscula para comenzar el nombre del planeta.\n",
    "# Solicitamos el nombre de un planeta *Pista:  input()*\n",
    "\n",
    "#print('Favor de introducir el nombre con Mayuscula al inicio')\n",
    "name_planet = input('Favor de introducir el nombre con Mayuscula al inicio')"
   ]
  },
  {
   "cell_type": "code",
   "execution_count": 20,
   "metadata": {},
   "outputs": [
    {
     "name": "stdout",
     "output_type": "stream",
     "text": [
      "El planeta ingresado NO existe\n"
     ]
    }
   ],
   "source": [
    "# Encuentra el planeta en la lista\n",
    "# Para determinar qué planetas están más cerca que el que ingresó el usuario, \n",
    "# debes encontrar dónde está el planeta en la lista. Puedes utilizar index para \n",
    "# realizar esta operación. Agrega el código para encontrar el índice del planeta.\n",
    "# Busca el planeta en la lista\n",
    "\n",
    "\n",
    "if name_planet in planets:\n",
    "    planet_index = planets.index(name_planet)\n",
    "    print('El planeta ingresado SI Existe')\n",
    "    # Muestra los planetas más cercanos al sol\n",
    "    print('Los planetas mas cercanos a ' + name_planet)\n",
    "    print(planets[0:planet_index])\n",
    "    # Muestra los planetas más lejanos al sol\n",
    "    print('Los planetas mas cercanos a ' + name_planet)\n",
    "    print(planets[planet_index+1:])\n",
    "else:    \n",
    "    print('El planeta ingresado NO existe')\n"
   ]
  }
 ],
 "metadata": {
  "interpreter": {
   "hash": "84ce06952b52acb5b719482c726aa8f1f0de530cee63389d2fd8051be28b06d5"
  },
  "kernelspec": {
   "display_name": "Python 3.10.2 64-bit",
   "language": "python",
   "name": "python3"
  },
  "language_info": {
   "codemirror_mode": {
    "name": "ipython",
    "version": 3
   },
   "file_extension": ".py",
   "mimetype": "text/x-python",
   "name": "python",
   "nbconvert_exporter": "python",
   "pygments_lexer": "ipython3",
   "version": "3.10.2"
  },
  "orig_nbformat": 4
 },
 "nbformat": 4,
 "nbformat_minor": 2
}
